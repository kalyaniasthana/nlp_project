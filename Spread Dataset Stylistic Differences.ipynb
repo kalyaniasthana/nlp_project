{
 "cells": [
  {
   "cell_type": "code",
   "execution_count": 6,
   "metadata": {},
   "outputs": [],
   "source": [
    "from functools import reduce\n",
    "\n",
    "def Average(l): \n",
    "    avg = reduce(lambda x, y: x + y, l) / len(l)\n",
    "    return(avg)\n",
    "\n",
    "def AVG_SENT_LNTH(File):\n",
    "    \n",
    "    SENTS = [i.split() for i in open(File).read().splitlines()]\n",
    "    Lengths = [len(i) for i in SENTS]\n",
    "    print(Average(Lengths))\n",
    "    return(Average(Lengths))"
   ]
  },
  {
   "cell_type": "code",
   "execution_count": 7,
   "metadata": {},
   "outputs": [
    {
     "name": "stdout",
     "output_type": "stream",
     "text": [
      "27.333333333333332\n",
      "27.576923076923077\n",
      "27.103448275862068\n",
      "25.24137931034483\n",
      "27.970588235294116\n"
     ]
    },
    {
     "data": {
      "text/plain": [
       "27.970588235294116"
      ]
     },
     "execution_count": 7,
     "metadata": {},
     "output_type": "execute_result"
    }
   ],
   "source": [
    "AVG_SENT_LNTH('CNN/Jacqueline Howard/1.txt')\n",
    "AVG_SENT_LNTH('CNN/Jacqueline Howard/2.txt')\n",
    "AVG_SENT_LNTH('CNN/Jacqueline Howard/3.txt')\n",
    "AVG_SENT_LNTH('CNN/Jacqueline Howard/4.txt')\n",
    "AVG_SENT_LNTH('CNN/Jacqueline Howard/5.txt')"
   ]
  },
  {
   "cell_type": "code",
   "execution_count": 8,
   "metadata": {},
   "outputs": [
    {
     "name": "stdout",
     "output_type": "stream",
     "text": [
      "26.3\n",
      "31.875\n",
      "22.140625\n",
      "25.68\n",
      "23.205128205128204\n"
     ]
    },
    {
     "data": {
      "text/plain": [
       "23.205128205128204"
      ]
     },
     "execution_count": 8,
     "metadata": {},
     "output_type": "execute_result"
    }
   ],
   "source": [
    "AVG_SENT_LNTH('CNN/Jen Christensen/1.txt')\n",
    "AVG_SENT_LNTH('CNN/Jen Christensen/2.txt')\n",
    "AVG_SENT_LNTH('CNN/Jen Christensen/3.txt')\n",
    "AVG_SENT_LNTH('CNN/Jen Christensen/4.txt')\n",
    "AVG_SENT_LNTH('CNN/Jen Christensen/5.txt')"
   ]
  },
  {
   "cell_type": "code",
   "execution_count": 10,
   "metadata": {},
   "outputs": [
    {
     "name": "stdout",
     "output_type": "stream",
     "text": [
      "15.88\n",
      "21.473684210526315\n",
      "25.666666666666668\n",
      "17.51851851851852\n",
      "17.944444444444443\n"
     ]
    },
    {
     "data": {
      "text/plain": [
       "17.944444444444443"
      ]
     },
     "execution_count": 10,
     "metadata": {},
     "output_type": "execute_result"
    }
   ],
   "source": [
    "AVG_SENT_LNTH('Fox/Kayla Rivas/1.txt')\n",
    "AVG_SENT_LNTH('Fox/Kayla Rivas/2.txt')\n",
    "AVG_SENT_LNTH('Fox/Kayla Rivas/3.txt')\n",
    "AVG_SENT_LNTH('Fox/Kayla Rivas/4.txt')\n",
    "AVG_SENT_LNTH('Fox/Kayla Rivas/5.txt')"
   ]
  },
  {
   "cell_type": "code",
   "execution_count": 11,
   "metadata": {},
   "outputs": [
    {
     "name": "stdout",
     "output_type": "stream",
     "text": [
      "22.6875\n",
      "17.785714285714285\n",
      "21.346153846153847\n",
      "18.571428571428573\n",
      "22.333333333333332\n"
     ]
    },
    {
     "data": {
      "text/plain": [
       "22.333333333333332"
      ]
     },
     "execution_count": 11,
     "metadata": {},
     "output_type": "execute_result"
    }
   ],
   "source": [
    "AVG_SENT_LNTH('Fox/Tyler Olson/1.txt')\n",
    "AVG_SENT_LNTH('Fox/Tyler Olson/2.txt')\n",
    "AVG_SENT_LNTH('Fox/Tyler Olson/3.txt')\n",
    "AVG_SENT_LNTH('Fox/Tyler Olson/4.txt')\n",
    "AVG_SENT_LNTH('Fox/Tyler Olson/5.txt')"
   ]
  },
  {
   "cell_type": "code",
   "execution_count": 12,
   "metadata": {},
   "outputs": [
    {
     "name": "stdout",
     "output_type": "stream",
     "text": [
      "17.40625\n",
      "18.466666666666665\n",
      "16.636363636363637\n",
      "18.476190476190474\n",
      "19.5\n"
     ]
    },
    {
     "data": {
      "text/plain": [
       "19.5"
      ]
     },
     "execution_count": 12,
     "metadata": {},
     "output_type": "execute_result"
    }
   ],
   "source": [
    "AVG_SENT_LNTH('Npr/Bill Chappell/1.txt')\n",
    "AVG_SENT_LNTH('Npr/Bill Chappell/2.txt')\n",
    "AVG_SENT_LNTH('Npr/Bill Chappell/3.txt')\n",
    "AVG_SENT_LNTH('Npr/Bill Chappell/4.txt')\n",
    "AVG_SENT_LNTH('Npr/Bill Chappell/5.txt')"
   ]
  },
  {
   "cell_type": "code",
   "execution_count": 13,
   "metadata": {},
   "outputs": [
    {
     "name": "stdout",
     "output_type": "stream",
     "text": [
      "18.5\n",
      "17.10909090909091\n",
      "15.931034482758621\n",
      "14.790697674418604\n",
      "18.18840579710145\n"
     ]
    },
    {
     "data": {
      "text/plain": [
       "18.18840579710145"
      ]
     },
     "execution_count": 13,
     "metadata": {},
     "output_type": "execute_result"
    }
   ],
   "source": [
    "AVG_SENT_LNTH('Npr/Laurel Wamsley/1.txt')\n",
    "AVG_SENT_LNTH('Npr/Laurel Wamsley/2.txt')\n",
    "AVG_SENT_LNTH('Npr/Laurel Wamsley/3.txt')\n",
    "AVG_SENT_LNTH('Npr/Laurel Wamsley/4.txt')\n",
    "AVG_SENT_LNTH('Npr/Laurel Wamsley/5.txt')"
   ]
  },
  {
   "cell_type": "code",
   "execution_count": 14,
   "metadata": {},
   "outputs": [
    {
     "name": "stdout",
     "output_type": "stream",
     "text": [
      "24.846153846153847\n",
      "25.246153846153845\n",
      "25.696969696969695\n",
      "15.76\n",
      "25.322033898305083\n"
     ]
    },
    {
     "data": {
      "text/plain": [
       "25.322033898305083"
      ]
     },
     "execution_count": 14,
     "metadata": {},
     "output_type": "execute_result"
    }
   ],
   "source": [
    "AVG_SENT_LNTH('Washington Post/Carolyn Johnson/1.txt')\n",
    "AVG_SENT_LNTH('Washington Post/Carolyn Johnson/2.txt')\n",
    "AVG_SENT_LNTH('Washington Post/Carolyn Johnson/3.txt')\n",
    "AVG_SENT_LNTH('Washington Post/Carolyn Johnson/4.txt')\n",
    "AVG_SENT_LNTH('Washington Post/Carolyn Johnson/5.txt')"
   ]
  },
  {
   "cell_type": "code",
   "execution_count": 16,
   "metadata": {},
   "outputs": [
    {
     "name": "stdout",
     "output_type": "stream",
     "text": [
      "18.77777777777778\n",
      "23.490909090909092\n",
      "21.591836734693878\n",
      "22.02127659574468\n",
      "28.94871794871795\n"
     ]
    },
    {
     "data": {
      "text/plain": [
       "28.94871794871795"
      ]
     },
     "execution_count": 16,
     "metadata": {},
     "output_type": "execute_result"
    }
   ],
   "source": [
    "AVG_SENT_LNTH('Washington Post/Issac Stanley-Becker/1.txt')\n",
    "AVG_SENT_LNTH('Washington Post/Issac Stanley-Becker/2.txt')\n",
    "AVG_SENT_LNTH('Washington Post/Issac Stanley-Becker/3.txt')\n",
    "AVG_SENT_LNTH('Washington Post/Issac Stanley-Becker/4.txt')\n",
    "AVG_SENT_LNTH('Washington Post/Issac Stanley-Becker/5.txt')"
   ]
  },
  {
   "cell_type": "code",
   "execution_count": 17,
   "metadata": {},
   "outputs": [
    {
     "name": "stdout",
     "output_type": "stream",
     "text": [
      "18.246753246753247\n",
      "18.344086021505376\n",
      "15.04\n",
      "16.636363636363637\n",
      "16.205882352941178\n"
     ]
    },
    {
     "data": {
      "text/plain": [
       "16.205882352941178"
      ]
     },
     "execution_count": 17,
     "metadata": {},
     "output_type": "execute_result"
    }
   ],
   "source": [
    "AVG_SENT_LNTH('Washington Times/Bill Gertz/1.txt')\n",
    "AVG_SENT_LNTH('Washington Times/Bill Gertz/2.txt')\n",
    "AVG_SENT_LNTH('Washington Times/Bill Gertz/3.txt')\n",
    "AVG_SENT_LNTH('Washington Times/Bill Gertz/4.txt')\n",
    "AVG_SENT_LNTH('Washington Times/Bill Gertz/5.txt')"
   ]
  },
  {
   "cell_type": "code",
   "execution_count": 18,
   "metadata": {},
   "outputs": [
    {
     "name": "stdout",
     "output_type": "stream",
     "text": [
      "14.52\n",
      "14.411764705882353\n",
      "16.313725490196077\n",
      "15.571428571428571\n",
      "14.722222222222221\n"
     ]
    },
    {
     "data": {
      "text/plain": [
       "14.722222222222221"
      ]
     },
     "execution_count": 18,
     "metadata": {},
     "output_type": "execute_result"
    }
   ],
   "source": [
    "AVG_SENT_LNTH('Washington Times/Tom Howell Jr/1.txt')\n",
    "AVG_SENT_LNTH('Washington Times/Tom Howell Jr/2.txt')\n",
    "AVG_SENT_LNTH('Washington Times/Tom Howell Jr/3.txt')\n",
    "AVG_SENT_LNTH('Washington Times/Tom Howell Jr/4.txt')\n",
    "AVG_SENT_LNTH('Washington Times/Tom Howell Jr/5.txt')"
   ]
  },
  {
   "cell_type": "code",
   "execution_count": 20,
   "metadata": {},
   "outputs": [],
   "source": [
    "from collections import Counter\n",
    "import nltk"
   ]
  },
  {
   "cell_type": "code",
   "execution_count": 31,
   "metadata": {},
   "outputs": [
    {
     "name": "stderr",
     "output_type": "stream",
     "text": [
      "[nltk_data] Downloading package punkt to\n",
      "[nltk_data]     /Users/darrenedmonds/nltk_data...\n",
      "[nltk_data]   Package punkt is already up-to-date!\n",
      "[nltk_data] Downloading package averaged_perceptron_tagger to\n",
      "[nltk_data]     /Users/darrenedmonds/nltk_data...\n",
      "[nltk_data]   Unzipping taggers/averaged_perceptron_tagger.zip.\n"
     ]
    },
    {
     "data": {
      "text/plain": [
       "True"
      ]
     },
     "execution_count": 31,
     "metadata": {},
     "output_type": "execute_result"
    }
   ],
   "source": [
    "nltk.download('punkt')\n",
    "nltk.download('averaged_perceptron_tagger')"
   ]
  },
  {
   "cell_type": "code",
   "execution_count": 39,
   "metadata": {},
   "outputs": [],
   "source": [
    "def PartsOfSpeechDistribution(File):\n",
    "#     SENTS = [i.split() for i in open(File).read().splitlines()]\n",
    "    tokens = nltk.word_tokenize(open(File).read())\n",
    "    text = nltk.Text(tokens)\n",
    "    tags = nltk.pos_tag(text)\n",
    "    counts = Counter(tag for word,tag in tags)\n",
    "#     print(counts)\n",
    "    return counts"
   ]
  },
  {
   "cell_type": "code",
   "execution_count": 42,
   "metadata": {},
   "outputs": [
    {
     "name": "stdout",
     "output_type": "stream",
     "text": [
      "Counter({'IN': 594, 'NN': 585, 'DT': 435, 'NNS': 425, 'NNP': 400, 'JJ': 361, ',': 238, 'RB': 211, 'VB': 186, 'PRP': 174, '.': 173, 'CC': 165, 'VBD': 160, 'TO': 159, 'VBP': 138, 'VBZ': 120, 'VBG': 119, 'VBN': 116, \"''\": 84, 'CD': 82, '``': 80, 'MD': 57, ':': 37, 'PRP$': 33, 'JJR': 32, 'WRB': 22, 'POS': 21, 'RP': 20, 'RBR': 17, 'NNPS': 16, 'WP': 16, 'EX': 15, 'WDT': 14, 'JJS': 5, 'PDT': 2, 'RBS': 1, '(': 1, ')': 1})\n"
     ]
    },
    {
     "data": {
      "text/plain": [
       "{'NNP': 0.07525870178739416,\n",
       " 'NNS': 0.0799623706491063,\n",
       " 'POS': 0.003951081843838194,\n",
       " 'NN': 0.11006585136406397,\n",
       " \"''\": 0.015804327375352777,\n",
       " 'IN': 0.11175917215428034,\n",
       " ',': 0.04477892756349953,\n",
       " 'CC': 0.031044214487300093,\n",
       " 'VBZ': 0.022577610536218252,\n",
       " 'DT': 0.08184383819379115,\n",
       " 'JJ': 0.06792097836312323,\n",
       " 'NNPS': 0.0030103480714957667,\n",
       " 'MD': 0.01072436500470367,\n",
       " 'VB': 0.034995296331138286,\n",
       " 'VBP': 0.025964252116650988,\n",
       " 'RB': 0.039698965192850426,\n",
       " 'TO': 0.02991533396048918,\n",
       " '.': 0.03254938852304798,\n",
       " 'JJR': 0.006020696142991533,\n",
       " ':': 0.00696142991533396,\n",
       " 'VBG': 0.022389463781749764,\n",
       " 'PRP': 0.032737535277516466,\n",
       " 'VBN': 0.021825023518344307,\n",
       " '``': 0.015051740357478834,\n",
       " 'VBD': 0.030103480714957668,\n",
       " 'CD': 0.015428033866415804,\n",
       " 'RBR': 0.003198494825964252,\n",
       " 'WDT': 0.002634054562558796,\n",
       " 'RP': 0.0037629350893697085,\n",
       " 'WP': 0.0030103480714957667,\n",
       " 'WRB': 0.004139228598306679,\n",
       " 'EX': 0.0028222013170272815,\n",
       " 'PRP$': 0.006208842897460019,\n",
       " 'JJS': 0.0009407337723424271,\n",
       " 'RBS': 0.00018814675446848542,\n",
       " 'PDT': 0.00037629350893697084,\n",
       " '(': 0.00018814675446848542,\n",
       " ')': 0.00018814675446848542}"
      ]
     },
     "execution_count": 42,
     "metadata": {},
     "output_type": "execute_result"
    }
   ],
   "source": [
    "firstCounts = PartsOfSpeechDistribution('CNN/Jacqueline Howard/1.txt')\n",
    "secondCounts = PartsOfSpeechDistribution('CNN/Jacqueline Howard/2.txt')\n",
    "thirdCounts = PartsOfSpeechDistribution('CNN/Jacqueline Howard/3.txt')\n",
    "fourthCounts = PartsOfSpeechDistribution('CNN/Jacqueline Howard/4.txt')\n",
    "fifthCounts = PartsOfSpeechDistribution('CNN/Jacqueline Howard/5.txt')\n",
    "finalCounts = firstCounts + secondCounts + thirdCounts + fourthCounts + fifthCounts\n",
    "print(finalCounts)\n",
    "total = sum(finalCounts.values())\n",
    "dict((word, float(count)/total) for word,count in finalCounts.items())"
   ]
  },
  {
   "cell_type": "code",
   "execution_count": 43,
   "metadata": {},
   "outputs": [
    {
     "name": "stdout",
     "output_type": "stream",
     "text": [
      "Counter({'NN': 683, 'IN': 602, 'DT': 510, 'NNP': 438, 'JJ': 405, 'NNS': 358, ',': 282, 'VB': 260, '.': 241, 'PRP': 213, 'RB': 202, 'VBD': 192, 'VBZ': 183, 'TO': 159, 'CC': 156, 'VBP': 131, 'VBN': 121, 'MD': 97, 'VBG': 97, '``': 67, \"''\": 67, 'CD': 62, 'WDT': 42, 'WP': 38, 'PRP$': 28, 'POS': 24, 'WRB': 22, ':': 21, 'JJR': 17, 'EX': 16, 'JJS': 16, 'RP': 15, 'RBR': 14, 'NNPS': 8, 'RBS': 6, 'PDT': 4, '(': 1, ')': 1, '$': 1})\n"
     ]
    },
    {
     "data": {
      "text/plain": [
       "{'NNP': 0.07551724137931035,\n",
       " 'JJ': 0.06982758620689655,\n",
       " 'NN': 0.11775862068965517,\n",
       " 'IN': 0.10379310344827586,\n",
       " 'VBZ': 0.03155172413793104,\n",
       " 'CC': 0.02689655172413793,\n",
       " 'VBD': 0.03310344827586207,\n",
       " 'PRP': 0.03672413793103448,\n",
       " 'VBN': 0.02086206896551724,\n",
       " 'DT': 0.08793103448275862,\n",
       " 'TO': 0.027413793103448277,\n",
       " 'VB': 0.04482758620689655,\n",
       " '.': 0.04155172413793103,\n",
       " 'MD': 0.016724137931034482,\n",
       " ':': 0.003620689655172414,\n",
       " 'NNS': 0.061724137931034484,\n",
       " 'VBP': 0.022586206896551723,\n",
       " 'VBG': 0.016724137931034482,\n",
       " 'POS': 0.004137931034482759,\n",
       " ',': 0.04862068965517241,\n",
       " 'RB': 0.03482758620689655,\n",
       " '``': 0.011551724137931034,\n",
       " 'WDT': 0.007241379310344828,\n",
       " \"''\": 0.011551724137931034,\n",
       " 'WRB': 0.003793103448275862,\n",
       " 'PRP$': 0.004827586206896552,\n",
       " 'RP': 0.002586206896551724,\n",
       " 'CD': 0.010689655172413793,\n",
       " 'WP': 0.006551724137931035,\n",
       " 'RBS': 0.0010344827586206897,\n",
       " 'EX': 0.002758620689655172,\n",
       " 'JJR': 0.0029310344827586207,\n",
       " 'RBR': 0.002413793103448276,\n",
       " 'PDT': 0.000689655172413793,\n",
       " 'JJS': 0.002758620689655172,\n",
       " '(': 0.00017241379310344826,\n",
       " ')': 0.00017241379310344826,\n",
       " 'NNPS': 0.001379310344827586,\n",
       " '$': 0.00017241379310344826}"
      ]
     },
     "execution_count": 43,
     "metadata": {},
     "output_type": "execute_result"
    }
   ],
   "source": [
    "firstCounts = PartsOfSpeechDistribution('CNN/Jen Christensen/1.txt')\n",
    "secondCounts = PartsOfSpeechDistribution('CNN/Jen Christensen/2.txt')\n",
    "thirdCounts = PartsOfSpeechDistribution('CNN/Jen Christensen/3.txt')\n",
    "fourthCounts = PartsOfSpeechDistribution('CNN/Jen Christensen/4.txt')\n",
    "fifthCounts = PartsOfSpeechDistribution('CNN/Jen Christensen/5.txt')\n",
    "finalCounts = firstCounts + secondCounts + thirdCounts + fourthCounts + fifthCounts\n",
    "print(finalCounts)\n",
    "total = sum(finalCounts.values())\n",
    "dict((word, float(count)/total) for word,count in finalCounts.items())"
   ]
  },
  {
   "cell_type": "code",
   "execution_count": 44,
   "metadata": {},
   "outputs": [
    {
     "name": "stdout",
     "output_type": "stream",
     "text": [
      "Counter({'NN': 358, 'IN': 273, 'NNP': 225, 'NNS': 222, 'DT': 205, 'JJ': 203, ',': 133, 'RB': 109, '.': 89, 'VBD': 84, 'CC': 82, 'CD': 79, 'VB': 76, 'TO': 68, 'VBN': 68, 'VBP': 60, 'VBZ': 56, 'VBG': 49, \"''\": 31, 'PRP': 30, '``': 29, 'MD': 23, 'PRP$': 19, 'WP': 11, 'NNPS': 11, 'JJS': 8, '(': 7, ')': 7, 'WDT': 7, 'JJR': 6, 'EX': 6, 'WRB': 4, 'POS': 4, 'RBS': 2, 'RBR': 1, 'RP': 1})\n"
     ]
    },
    {
     "data": {
      "text/plain": [
       "{'NNP': 0.08503401360544217,\n",
       " 'TO': 0.025699168556311415,\n",
       " 'VB': 0.02872260015117158,\n",
       " 'JJ': 0.07671957671957672,\n",
       " 'NN': 0.13529856386999245,\n",
       " ',': 0.05026455026455026,\n",
       " 'CD': 0.02985638699924414,\n",
       " 'NNS': 0.08390022675736962,\n",
       " 'MD': 0.008692365835222978,\n",
       " 'RB': 0.041194255479969764,\n",
       " 'IN': 0.10317460317460317,\n",
       " 'VBG': 0.018518518518518517,\n",
       " 'CC': 0.030990173847316706,\n",
       " '.': 0.03363567649281935,\n",
       " 'VBD': 0.031746031746031744,\n",
       " 'DT': 0.07747543461829176,\n",
       " 'JJS': 0.0030234315948601664,\n",
       " 'VBN': 0.025699168556311415,\n",
       " 'JJR': 0.0022675736961451248,\n",
       " '``': 0.010959939531368102,\n",
       " 'WRB': 0.0015117157974300832,\n",
       " 'VBP': 0.022675736961451247,\n",
       " 'PRP$': 0.007180650037792895,\n",
       " 'WP': 0.0041572184429327285,\n",
       " 'VBZ': 0.021164021164021163,\n",
       " \"''\": 0.011715797430083144,\n",
       " 'POS': 0.0015117157974300832,\n",
       " 'PRP': 0.011337868480725623,\n",
       " 'NNPS': 0.0041572184429327285,\n",
       " '(': 0.0026455026455026454,\n",
       " ')': 0.0026455026455026454,\n",
       " 'RBR': 0.0003779289493575208,\n",
       " 'WDT': 0.0026455026455026454,\n",
       " 'EX': 0.0022675736961451248,\n",
       " 'RP': 0.0003779289493575208,\n",
       " 'RBS': 0.0007558578987150416}"
      ]
     },
     "execution_count": 44,
     "metadata": {},
     "output_type": "execute_result"
    }
   ],
   "source": [
    "firstCounts = PartsOfSpeechDistribution('Fox/Kayla Rivas/1.txt')\n",
    "secondCounts = PartsOfSpeechDistribution('Fox/Kayla Rivas/2.txt')\n",
    "thirdCounts = PartsOfSpeechDistribution('Fox/Kayla Rivas/3.txt')\n",
    "fourthCounts = PartsOfSpeechDistribution('Fox/Kayla Rivas/4.txt')\n",
    "fifthCounts = PartsOfSpeechDistribution('Fox/Kayla Rivas/5.txt')\n",
    "finalCounts = firstCounts + secondCounts + thirdCounts + fourthCounts + fifthCounts\n",
    "print(finalCounts)\n",
    "total = sum(finalCounts.values())\n",
    "dict((word, float(count)/total) for word,count in finalCounts.items())\n"
   ]
  },
  {
   "cell_type": "code",
   "execution_count": 52,
   "metadata": {},
   "outputs": [
    {
     "name": "stdout",
     "output_type": "stream",
     "text": [
      "Counter({'NNP': 505, 'NN': 475, 'IN': 438, 'DT': 367, 'JJ': 216, 'VBD': 183, 'NNS': 157, ',': 141, 'RB': 140, 'VB': 139, '.': 123, 'TO': 109, 'PRP': 103, 'VBZ': 90, 'VBN': 86, 'CC': 85, \"''\": 74, '``': 71, 'VBG': 67, 'MD': 49, 'VBP': 43, 'WDT': 30, 'POS': 29, 'PRP$': 29, 'WP': 26, 'CD': 24, 'NNPS': 24, 'WRB': 13, 'JJR': 9, 'RBR': 9, '(': 8, ')': 8, 'RP': 8, 'JJS': 7, 'RBS': 7, ':': 4, '$': 3, 'EX': 1})\n"
     ]
    },
    {
     "data": {
      "text/plain": [
       "{'NNP': 0.1294871794871795,\n",
       " 'VBZ': 0.023076923076923078,\n",
       " 'JJS': 0.0017948717948717949,\n",
       " 'POS': 0.007435897435897436,\n",
       " 'NN': 0.12179487179487179,\n",
       " 'IN': 0.1123076923076923,\n",
       " 'NNS': 0.040256410256410254,\n",
       " ',': 0.036153846153846154,\n",
       " 'VBD': 0.04692307692307692,\n",
       " 'RB': 0.035897435897435895,\n",
       " 'CD': 0.006153846153846154,\n",
       " 'VBP': 0.011025641025641025,\n",
       " '$': 0.0007692307692307692,\n",
       " 'JJ': 0.055384615384615386,\n",
       " 'TO': 0.02794871794871795,\n",
       " 'CC': 0.021794871794871794,\n",
       " '(': 0.0020512820512820513,\n",
       " ')': 0.0020512820512820513,\n",
       " '``': 0.018205128205128204,\n",
       " \"''\": 0.018974358974358976,\n",
       " 'VBG': 0.01717948717948718,\n",
       " 'DT': 0.0941025641025641,\n",
       " 'VB': 0.03564102564102564,\n",
       " '.': 0.031538461538461536,\n",
       " 'NNPS': 0.006153846153846154,\n",
       " 'VBN': 0.02205128205128205,\n",
       " 'WDT': 0.007692307692307693,\n",
       " 'MD': 0.012564102564102564,\n",
       " 'PRP': 0.02641025641025641,\n",
       " 'PRP$': 0.007435897435897436,\n",
       " 'WRB': 0.0033333333333333335,\n",
       " 'RP': 0.0020512820512820513,\n",
       " 'WP': 0.006666666666666667,\n",
       " 'JJR': 0.002307692307692308,\n",
       " ':': 0.0010256410256410256,\n",
       " 'RBR': 0.002307692307692308,\n",
       " 'EX': 0.0002564102564102564,\n",
       " 'RBS': 0.0017948717948717949}"
      ]
     },
     "execution_count": 52,
     "metadata": {},
     "output_type": "execute_result"
    }
   ],
   "source": [
    "firstCounts = PartsOfSpeechDistribution('Fox/Tyler Olson/1.txt')\n",
    "secondCounts = PartsOfSpeechDistribution('Fox/Tyler Olson/2.txt')\n",
    "thirdCounts = PartsOfSpeechDistribution('Fox/Tyler Olson/3.txt')\n",
    "fourthCounts = PartsOfSpeechDistribution('Fox/Tyler Olson/4.txt')\n",
    "fifthCounts = PartsOfSpeechDistribution('Fox/Tyler Olson/5.txt')\n",
    "finalCounts = firstCounts + secondCounts + thirdCounts + fourthCounts + fifthCounts\n",
    "print(finalCounts)\n",
    "total = sum(finalCounts.values())\n",
    "dict((word, float(count)/total) for word,count in finalCounts.items())"
   ]
  },
  {
   "cell_type": "code",
   "execution_count": 53,
   "metadata": {},
   "outputs": [
    {
     "name": "stdout",
     "output_type": "stream",
     "text": [
      "Counter({'NN': 349, 'IN': 291, 'NNP': 278, 'DT': 256, 'NNS': 203, 'JJ': 164, ',': 135, 'CD': 120, '.': 102, 'VBD': 97, 'TO': 95, 'VB': 77, 'VBN': 71, 'CC': 70, 'RB': 67, 'VBZ': 42, 'VBP': 39, 'VBG': 39, 'MD': 30, \"''\": 29, 'JJR': 28, '``': 28, 'POS': 25, 'PRP': 25, 'PRP$': 21, 'JJS': 15, 'WDT': 11, 'WRB': 7, 'WP': 7, 'NNPS': 4, '$': 4, 'RBR': 3, ':': 3, 'RP': 3, '(': 3, ')': 3, 'RBS': 1, 'WP$': 1, 'UH': 1})\n"
     ]
    },
    {
     "data": {
      "text/plain": [
       "{'NN': 0.12704768838733163,\n",
       " 'IN': 0.10593374590462322,\n",
       " 'DT': 0.09319257371678194,\n",
       " 'NNP': 0.1012013105205679,\n",
       " '.': 0.037131416090280304,\n",
       " 'NNS': 0.07389879868947943,\n",
       " 'VBP': 0.014197306152166,\n",
       " 'RB': 0.024390243902439025,\n",
       " 'VBN': 0.02584637786676374,\n",
       " 'JJ': 0.05970149253731343,\n",
       " 'VBZ': 0.015289406625409537,\n",
       " 'CD': 0.04368401892974154,\n",
       " 'TO': 0.03458318165271205,\n",
       " 'JJR': 0.010192937750273025,\n",
       " ',': 0.049144521295959226,\n",
       " 'VBD': 0.035311248634874406,\n",
       " 'POS': 0.009100837277029487,\n",
       " '``': 0.010192937750273025,\n",
       " 'PRP$': 0.007644703312704768,\n",
       " \"''\": 0.010556971241354204,\n",
       " 'WRB': 0.0025482344375682563,\n",
       " 'PRP': 0.009100837277029487,\n",
       " 'CC': 0.025482344375682562,\n",
       " 'NNPS': 0.0014561339643247178,\n",
       " 'VBG': 0.014197306152166,\n",
       " 'VB': 0.028030578813250818,\n",
       " 'JJS': 0.005460502366217692,\n",
       " 'RBR': 0.0010921004732435385,\n",
       " ':': 0.0010921004732435385,\n",
       " 'WP': 0.0025482344375682563,\n",
       " '$': 0.0014561339643247178,\n",
       " 'WDT': 0.004004368401892974,\n",
       " 'RBS': 0.00036403349108117945,\n",
       " 'WP$': 0.00036403349108117945,\n",
       " 'MD': 0.010921004732435385,\n",
       " 'UH': 0.00036403349108117945,\n",
       " 'RP': 0.0010921004732435385,\n",
       " '(': 0.0010921004732435385,\n",
       " ')': 0.0010921004732435385}"
      ]
     },
     "execution_count": 53,
     "metadata": {},
     "output_type": "execute_result"
    }
   ],
   "source": [
    "firstCounts = PartsOfSpeechDistribution('Npr/Bill Chappell/1.txt')\n",
    "secondCounts = PartsOfSpeechDistribution('Npr/Bill Chappell/2.txt')\n",
    "thirdCounts = PartsOfSpeechDistribution('Npr/Bill Chappell/3.txt')\n",
    "fourthCounts = PartsOfSpeechDistribution('Npr/Bill Chappell/4.txt')\n",
    "fifthCounts = PartsOfSpeechDistribution('Npr/Bill Chappell/5.txt')\n",
    "finalCounts = firstCounts + secondCounts + thirdCounts + fourthCounts + fifthCounts\n",
    "print(finalCounts)\n",
    "total = sum(finalCounts.values())\n",
    "dict((word, float(count)/total) for word,count in finalCounts.items())"
   ]
  },
  {
   "cell_type": "code",
   "execution_count": 54,
   "metadata": {},
   "outputs": [
    {
     "name": "stdout",
     "output_type": "stream",
     "text": [
      "Counter({'IN': 463, 'NN': 422, 'NNS': 373, 'NNP': 350, 'DT': 310, 'JJ': 245, 'RB': 189, ',': 187, '.': 159, 'CC': 155, 'VB': 147, 'VBN': 119, 'VBP': 112, 'TO': 110, 'PRP': 100, 'VBZ': 99, 'VBD': 91, 'VBG': 82, 'CD': 75, 'PRP$': 53, 'MD': 43, 'JJR': 36, 'WP': 30, '``': 28, \"''\": 28, 'NNPS': 15, 'JJS': 14, 'POS': 14, 'WDT': 12, 'RP': 12, 'WRB': 12, 'EX': 9, '(': 5, ')': 5, ':': 2, '$': 1, 'FW': 1, 'RBR': 1})\n"
     ]
    },
    {
     "data": {
      "text/plain": [
       "{'IN': 0.11267948405938184,\n",
       " 'CD': 0.01825261620832319,\n",
       " 'NNS': 0.09077634460939402,\n",
       " ',': 0.04550985641275249,\n",
       " 'JJR': 0.008761255779995133,\n",
       " 'NNP': 0.08517887563884156,\n",
       " 'DT': 0.07544414699440254,\n",
       " 'CC': 0.03772207349720127,\n",
       " 'NN': 0.10270138719883183,\n",
       " 'VBP': 0.027257240204429302,\n",
       " 'RB': 0.04599659284497445,\n",
       " 'VBN': 0.028960817717206135,\n",
       " 'VBG': 0.019956193721100024,\n",
       " 'TO': 0.02677050377220735,\n",
       " 'JJS': 0.0034071550255536627,\n",
       " '.': 0.03869554636164517,\n",
       " 'VBZ': 0.024093453394986614,\n",
       " 'JJ': 0.059625212947189095,\n",
       " 'VBD': 0.022146507666098807,\n",
       " 'VB': 0.03577512776831346,\n",
       " 'WDT': 0.0029204185933317107,\n",
       " 'POS': 0.0034071550255536627,\n",
       " 'NNPS': 0.0036505232416646385,\n",
       " 'PRP': 0.02433682161109759,\n",
       " 'PRP$': 0.012898515453881723,\n",
       " 'RP': 0.0029204185933317107,\n",
       " '$': 0.0002433682161109759,\n",
       " 'WP': 0.007301046483329277,\n",
       " '``': 0.0068143100511073255,\n",
       " \"''\": 0.0068143100511073255,\n",
       " ':': 0.0004867364322219518,\n",
       " 'WRB': 0.0029204185933317107,\n",
       " 'MD': 0.010464833292771964,\n",
       " '(': 0.0012168410805548796,\n",
       " ')': 0.0012168410805548796,\n",
       " 'EX': 0.0021903139449987834,\n",
       " 'FW': 0.0002433682161109759,\n",
       " 'RBR': 0.0002433682161109759}"
      ]
     },
     "execution_count": 54,
     "metadata": {},
     "output_type": "execute_result"
    }
   ],
   "source": [
    "firstCounts = PartsOfSpeechDistribution('Npr/Laurel Wamsley/1.txt')\n",
    "secondCounts = PartsOfSpeechDistribution('Npr/Laurel Wamsley/2.txt')\n",
    "thirdCounts = PartsOfSpeechDistribution('Npr/Laurel Wamsley/3.txt')\n",
    "fourthCounts = PartsOfSpeechDistribution('Npr/Laurel Wamsley/4.txt')\n",
    "fifthCounts = PartsOfSpeechDistribution('Npr/Laurel Wamsley/5.txt')\n",
    "finalCounts = firstCounts + secondCounts + thirdCounts + fourthCounts + fifthCounts\n",
    "print(finalCounts)\n",
    "total = sum(finalCounts.values())\n",
    "dict((word, float(count)/total) for word,count in finalCounts.items())"
   ]
  },
  {
   "cell_type": "code",
   "execution_count": 56,
   "metadata": {},
   "outputs": [
    {
     "name": "stdout",
     "output_type": "stream",
     "text": [
      "Counter({'NN': 782, 'IN': 704, 'DT': 521, 'JJ': 423, 'NNP': 416, 'NNS': 408, ',': 256, 'VBD': 214, 'RB': 195, 'VB': 193, '.': 185, 'VBN': 184, 'CC': 165, 'TO': 151, 'VBZ': 123, 'VBP': 110, 'VBG': 105, 'PRP': 105, 'CD': 100, 'MD': 60, 'PRP$': 43, 'JJR': 40, 'WDT': 31, 'WP': 27, 'WRB': 21, 'JJS': 16, 'RP': 15, 'NNPS': 14, 'RBR': 10, 'EX': 7, 'PDT': 4, ':': 3, 'FW': 2, 'RBS': 2, 'POS': 1, '(': 1, ')': 1, '$': 1})\n"
     ]
    },
    {
     "data": {
      "text/plain": [
       "{'NNP': 0.07377194538038659,\n",
       " 'VBZ': 0.021812378081220076,\n",
       " 'VBG': 0.01862032275226104,\n",
       " 'PRP$': 0.007625465508068806,\n",
       " 'NN': 0.13867707040255364,\n",
       " 'VBD': 0.03794999113317964,\n",
       " 'DT': 0.09239226813264763,\n",
       " 'JJ': 0.07501330023053733,\n",
       " 'IN': 0.12484483064373116,\n",
       " 'NNS': 0.07235325412307146,\n",
       " 'PRP': 0.01862032275226104,\n",
       " ',': 0.04539812023408406,\n",
       " 'CC': 0.02926050718212449,\n",
       " 'TO': 0.026777797481823018,\n",
       " 'VB': 0.03422592658272743,\n",
       " '.': 0.032807235325412305,\n",
       " 'VBN': 0.03262989891824792,\n",
       " 'MD': 0.01064018442986345,\n",
       " 'RB': 0.03458059939705622,\n",
       " 'CD': 0.017733640716439084,\n",
       " 'WDT': 0.005497428622096116,\n",
       " 'JJR': 0.007093456286575634,\n",
       " 'WP': 0.004788082993438553,\n",
       " 'VBP': 0.019507004788082993,\n",
       " 'NNPS': 0.002482709700301472,\n",
       " 'JJS': 0.0028373825146302536,\n",
       " 'PDT': 0.0007093456286575634,\n",
       " 'WRB': 0.0037240645504522077,\n",
       " 'RBR': 0.0017733640716439084,\n",
       " 'EX': 0.001241354850150736,\n",
       " 'FW': 0.0003546728143287817,\n",
       " 'POS': 0.00017733640716439085,\n",
       " 'RP': 0.0026600461074658627,\n",
       " 'RBS': 0.0003546728143287817,\n",
       " ':': 0.0005320092214931725,\n",
       " '(': 0.00017733640716439085,\n",
       " ')': 0.00017733640716439085,\n",
       " '$': 0.00017733640716439085}"
      ]
     },
     "execution_count": 56,
     "metadata": {},
     "output_type": "execute_result"
    }
   ],
   "source": [
    "firstCounts = PartsOfSpeechDistribution('Washington Post/Carolyn Johnson/1.txt')\n",
    "secondCounts = PartsOfSpeechDistribution('Washington Post/Carolyn Johnson/2.txt')\n",
    "thirdCounts = PartsOfSpeechDistribution('Washington Post/Carolyn Johnson/3.txt')\n",
    "fourthCounts = PartsOfSpeechDistribution('Washington Post/Carolyn Johnson/4.txt')\n",
    "fifthCounts = PartsOfSpeechDistribution('Washington Post/Carolyn Johnson/5.txt')\n",
    "finalCounts = firstCounts + secondCounts + thirdCounts + fourthCounts + fifthCounts\n",
    "print(finalCounts)\n",
    "total = sum(finalCounts.values())\n",
    "dict((word, float(count)/total) for word,count in finalCounts.items())"
   ]
  },
  {
   "cell_type": "code",
   "execution_count": 58,
   "metadata": {},
   "outputs": [
    {
     "name": "stdout",
     "output_type": "stream",
     "text": [
      "Counter({'NN': 777, 'IN': 588, 'NNP': 525, 'DT': 452, 'NNS': 373, 'JJ': 363, ',': 271, 'VBD': 239, 'VB': 191, 'CC': 173, 'TO': 164, '.': 158, 'RB': 150, 'VBN': 133, 'VBG': 133, 'PRP': 130, 'VBZ': 92, 'VBP': 88, 'CD': 75, 'MD': 67, 'PRP$': 49, 'JJR': 28, 'WDT': 24, 'WRB': 24, 'WP': 20, 'RP': 18, 'NNPS': 14, 'JJS': 10, 'EX': 10, 'RBS': 5, '(': 4, ')': 4, 'RBR': 3, 'PDT': 2, 'WP$': 2, ':': 2, 'FW': 2})\n"
     ]
    },
    {
     "data": {
      "text/plain": [
       "{'IN': 0.10964012679470446,\n",
       " 'NNS': 0.06955062465038225,\n",
       " 'NN': 0.14488159612157375,\n",
       " ',': 0.05053141898191311,\n",
       " 'NNP': 0.09789297035241469,\n",
       " 'VBZ': 0.01715457766175648,\n",
       " 'DT': 0.08428118590341227,\n",
       " 'CC': 0.03225806451612903,\n",
       " 'CD': 0.013984710050344957,\n",
       " 'JJ': 0.06768599664366959,\n",
       " 'VBP': 0.016408726459071415,\n",
       " 'VBN': 0.024799552489278388,\n",
       " 'TO': 0.030579899310087637,\n",
       " 'RB': 0.027969420100689913,\n",
       " '.': 0.02946112250606004,\n",
       " 'VB': 0.03561439492821182,\n",
       " 'VBG': 0.024799552489278388,\n",
       " 'WDT': 0.004475107216110386,\n",
       " 'WRB': 0.004475107216110386,\n",
       " 'VBD': 0.04456460936043259,\n",
       " 'MD': 0.012493007644974827,\n",
       " 'RP': 0.0033563304120827896,\n",
       " 'PRP': 0.02424016408726459,\n",
       " 'PRP$': 0.009136677232892038,\n",
       " 'NNPS': 0.002610479209397725,\n",
       " 'WP': 0.003729256013425322,\n",
       " 'JJR': 0.00522095841879545,\n",
       " 'JJS': 0.001864628006712661,\n",
       " 'RBS': 0.0009323140033563305,\n",
       " 'PDT': 0.00037292560134253216,\n",
       " 'EX': 0.001864628006712661,\n",
       " 'RBR': 0.0005593884020137983,\n",
       " 'WP$': 0.00037292560134253216,\n",
       " ':': 0.00037292560134253216,\n",
       " 'FW': 0.00037292560134253216,\n",
       " '(': 0.0007458512026850643,\n",
       " ')': 0.0007458512026850643}"
      ]
     },
     "execution_count": 58,
     "metadata": {},
     "output_type": "execute_result"
    }
   ],
   "source": [
    "firstCounts = PartsOfSpeechDistribution('Washington Post/Issac Stanley-Becker/1.txt')\n",
    "secondCounts = PartsOfSpeechDistribution('Washington Post/Issac Stanley-Becker/2.txt')\n",
    "thirdCounts = PartsOfSpeechDistribution('Washington Post/Issac Stanley-Becker/3.txt')\n",
    "fourthCounts = PartsOfSpeechDistribution('Washington Post/Issac Stanley-Becker/4.txt')\n",
    "fifthCounts = PartsOfSpeechDistribution('Washington Post/Issac Stanley-Becker/5.txt')\n",
    "finalCounts = firstCounts + secondCounts + thirdCounts + fourthCounts + fifthCounts\n",
    "print(finalCounts)\n",
    "total = sum(finalCounts.values())\n",
    "dict((word, float(count)/total) for word,count in finalCounts.items())"
   ]
  },
  {
   "cell_type": "code",
   "execution_count": 59,
   "metadata": {},
   "outputs": [
    {
     "name": "stdout",
     "output_type": "stream",
     "text": [
      "Counter({'NN': 1036, 'NNP': 816, 'IN': 744, 'DT': 685, 'JJ': 484, 'NNS': 345, 'VBD': 342, ',': 237, 'VBN': 185, 'RB': 183, '.': 177, 'VB': 150, 'TO': 148, 'CC': 135, 'VBZ': 129, 'VBG': 129, 'PRP': 85, 'VBP': 79, 'CD': 72, 'MD': 44, 'PRP$': 37, 'WDT': 36, 'WP': 29, 'WRB': 18, 'RP': 17, 'NNPS': 11, 'RBS': 10, 'JJR': 9, 'EX': 9, 'RBR': 8, 'JJS': 7, '(': 6, ')': 6, ':': 4, '$': 2, 'FW': 1, 'POS': 1})\n"
     ]
    },
    {
     "data": {
      "text/plain": [
       "{'NNP': 0.12718204488778054,\n",
       " 'JJ': 0.07543640897755612,\n",
       " 'NN': 0.1614713216957606,\n",
       " 'VBD': 0.053304239401496256,\n",
       " 'IN': 0.11596009975062344,\n",
       " ',': 0.03693890274314215,\n",
       " 'VBZ': 0.020105985037406484,\n",
       " 'NNS': 0.05377182044887781,\n",
       " 'VBN': 0.02883416458852868,\n",
       " 'TO': 0.023067331670822942,\n",
       " 'DT': 0.1067643391521197,\n",
       " 'VBP': 0.012312967581047381,\n",
       " 'VBG': 0.020105985037406484,\n",
       " 'NNPS': 0.0017144638403990024,\n",
       " '.': 0.02758728179551122,\n",
       " 'PRP': 0.013248129675810474,\n",
       " 'VB': 0.023379052369077308,\n",
       " 'CC': 0.021041147132169577,\n",
       " 'RB': 0.028522443890274314,\n",
       " 'WDT': 0.005610972568578554,\n",
       " 'PRP$': 0.005766832917705736,\n",
       " '(': 0.0009351620947630922,\n",
       " ')': 0.0009351620947630922,\n",
       " 'WP': 0.00451995012468828,\n",
       " 'MD': 0.00685785536159601,\n",
       " 'RP': 0.002649625935162095,\n",
       " 'CD': 0.011221945137157107,\n",
       " 'RBS': 0.0015586034912718205,\n",
       " 'JJR': 0.0014027431421446384,\n",
       " '$': 0.0003117206982543641,\n",
       " 'EX': 0.0014027431421446384,\n",
       " 'WRB': 0.002805486284289277,\n",
       " 'JJS': 0.0010910224438902742,\n",
       " 'RBR': 0.0012468827930174563,\n",
       " ':': 0.0006234413965087282,\n",
       " 'FW': 0.00015586034912718204,\n",
       " 'POS': 0.00015586034912718204}"
      ]
     },
     "execution_count": 59,
     "metadata": {},
     "output_type": "execute_result"
    }
   ],
   "source": [
    "firstCounts = PartsOfSpeechDistribution('Washington Times/Bill Gertz/1.txt')\n",
    "secondCounts = PartsOfSpeechDistribution('Washington Times/Bill Gertz/2.txt')\n",
    "thirdCounts = PartsOfSpeechDistribution('Washington Times/Bill Gertz/3.txt')\n",
    "fourthCounts = PartsOfSpeechDistribution('Washington Times/Bill Gertz/4.txt')\n",
    "fifthCounts = PartsOfSpeechDistribution('Washington Times/Bill Gertz/5.txt')\n",
    "finalCounts = firstCounts + secondCounts + thirdCounts + fourthCounts + fifthCounts\n",
    "print(finalCounts)\n",
    "total = sum(finalCounts.values())\n",
    "dict((word, float(count)/total) for word,count in finalCounts.items())"
   ]
  },
  {
   "cell_type": "code",
   "execution_count": 60,
   "metadata": {},
   "outputs": [
    {
     "name": "stdout",
     "output_type": "stream",
     "text": [
      "Counter({'NN': 408, 'NNP': 365, 'IN': 325, 'DT': 295, 'JJ': 191, 'NNS': 174, 'VBD': 135, ',': 126, 'VB': 123, 'RB': 107, '.': 104, 'PRP': 102, 'CC': 92, 'TO': 87, 'VBZ': 75, 'VBP': 74, 'VBN': 73, 'VBG': 66, 'CD': 48, 'MD': 34, 'PRP$': 34, 'WDT': 16, 'WP': 15, 'JJR': 11, 'JJS': 9, 'RP': 8, 'WRB': 8, ':': 6, 'NNPS': 6, 'RBR': 5, 'EX': 3, 'PDT': 3, 'FW': 2, 'UH': 1, 'RBS': 1})\n"
     ]
    },
    {
     "data": {
      "text/plain": [
       "{'JJ': 0.06098339719029374,\n",
       " 'NN': 0.13026819923371646,\n",
       " ':': 0.0019157088122605363,\n",
       " 'IN': 0.10376756066411238,\n",
       " 'NNP': 0.1165389527458493,\n",
       " 'RB': 0.034163473818646234,\n",
       " 'DT': 0.0941890166028097,\n",
       " 'VBZ': 0.023946360153256706,\n",
       " 'PRP': 0.032567049808429116,\n",
       " 'MD': 0.010855683269476373,\n",
       " 'VB': 0.039272030651340994,\n",
       " 'CD': 0.01532567049808429,\n",
       " 'CC': 0.02937420178799489,\n",
       " 'VBP': 0.02362707535121328,\n",
       " 'VBD': 0.04310344827586207,\n",
       " 'VBG': 0.0210727969348659,\n",
       " 'VBN': 0.02330779054916986,\n",
       " 'NNS': 0.05555555555555555,\n",
       " 'NNPS': 0.0019157088122605363,\n",
       " 'TO': 0.027777777777777776,\n",
       " '.': 0.033205619412515965,\n",
       " ',': 0.040229885057471264,\n",
       " 'WDT': 0.005108556832694764,\n",
       " 'WP': 0.004789272030651341,\n",
       " 'EX': 0.0009578544061302681,\n",
       " 'PDT': 0.0009578544061302681,\n",
       " 'PRP$': 0.010855683269476373,\n",
       " 'JJS': 0.0028735632183908046,\n",
       " 'RP': 0.002554278416347382,\n",
       " 'FW': 0.0006385696040868455,\n",
       " 'JJR': 0.00351213282247765,\n",
       " 'RBR': 0.0015964240102171138,\n",
       " 'UH': 0.00031928480204342275,\n",
       " 'WRB': 0.002554278416347382,\n",
       " 'RBS': 0.00031928480204342275}"
      ]
     },
     "execution_count": 60,
     "metadata": {},
     "output_type": "execute_result"
    }
   ],
   "source": [
    "firstCounts = PartsOfSpeechDistribution('Washington Times/Tom Howell Jr/1.txt')\n",
    "secondCounts = PartsOfSpeechDistribution('Washington Times/Tom Howell Jr/2.txt')\n",
    "thirdCounts = PartsOfSpeechDistribution('Washington Times/Tom Howell Jr/3.txt')\n",
    "fourthCounts = PartsOfSpeechDistribution('Washington Times/Tom Howell Jr/4.txt')\n",
    "fifthCounts = PartsOfSpeechDistribution('Washington Times/Tom Howell Jr/5.txt')\n",
    "finalCounts = firstCounts + secondCounts + thirdCounts + fourthCounts + fifthCounts\n",
    "print(finalCounts)\n",
    "total = sum(finalCounts.values())\n",
    "dict((word, float(count)/total) for word,count in finalCounts.items())"
   ]
  },
  {
   "cell_type": "code",
   "execution_count": 80,
   "metadata": {},
   "outputs": [],
   "source": [
    "import joblib \n",
    "triples_coref = joblib.load('tripes_spacy_coref.joblib')\n",
    "triples_spacy = joblib.load('tripes_spacy.joblib')\n",
    "triples_stanford = joblib.load('triples_stanford.joblib')"
   ]
  },
  {
   "cell_type": "code",
   "execution_count": 77,
   "metadata": {},
   "outputs": [
    {
     "name": "stdout",
     "output_type": "stream",
     "text": [
      "26\n"
     ]
    }
   ],
   "source": [
    "print(len(triples_coref)) #got 4 correct for NPR "
   ]
  },
  {
   "cell_type": "code",
   "execution_count": 78,
   "metadata": {},
   "outputs": [
    {
     "name": "stdout",
     "output_type": "stream",
     "text": [
      "117\n"
     ]
    }
   ],
   "source": [
    "print(len(triples_stanford)) #got 12 correct "
   ]
  },
  {
   "cell_type": "code",
   "execution_count": 79,
   "metadata": {},
   "outputs": [
    {
     "name": "stdout",
     "output_type": "stream",
     "text": [
      "26\n"
     ]
    }
   ],
   "source": [
    "print(len(triples_spacy)) #got 4 correct"
   ]
  },
  {
   "cell_type": "code",
   "execution_count": 84,
   "metadata": {},
   "outputs": [
    {
     "name": "stdout",
     "output_type": "stream",
     "text": [
      "17\n"
     ]
    }
   ],
   "source": [
    "print(len(triples_coref)) #got 5 correct"
   ]
  },
  {
   "cell_type": "code",
   "execution_count": 85,
   "metadata": {},
   "outputs": [
    {
     "name": "stdout",
     "output_type": "stream",
     "text": [
      "85\n"
     ]
    }
   ],
   "source": [
    "print(len(triples_stanford)) #got 9 correct"
   ]
  },
  {
   "cell_type": "code",
   "execution_count": 86,
   "metadata": {},
   "outputs": [
    {
     "name": "stdout",
     "output_type": "stream",
     "text": [
      "17\n"
     ]
    }
   ],
   "source": [
    "print(len(triples_spacy)) #got 5 correct"
   ]
  },
  {
   "cell_type": "code",
   "execution_count": null,
   "metadata": {},
   "outputs": [],
   "source": []
  }
 ],
 "metadata": {
  "kernelspec": {
   "display_name": "Python 3",
   "language": "python",
   "name": "python3"
  },
  "language_info": {
   "codemirror_mode": {
    "name": "ipython",
    "version": 3
   },
   "file_extension": ".py",
   "mimetype": "text/x-python",
   "name": "python",
   "nbconvert_exporter": "python",
   "pygments_lexer": "ipython3",
   "version": "3.8.3"
  }
 },
 "nbformat": 4,
 "nbformat_minor": 4
}
